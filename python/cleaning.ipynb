{
 "cells": [
  {
   "cell_type": "code",
   "execution_count": 2,
   "metadata": {},
   "outputs": [
    {
     "name": "stdout",
     "output_type": "stream",
     "text": [
      "Hello\n"
     ]
    }
   ],
   "source": [
    "print(\"Hello\")"
   ]
  },
  {
   "cell_type": "code",
   "execution_count": 3,
   "metadata": {},
   "outputs": [],
   "source": [
    "import pandas as pd"
   ]
  },
  {
   "cell_type": "code",
   "execution_count": 4,
   "metadata": {},
   "outputs": [],
   "source": [
    "df = pd.read_csv('invoices.csv')"
   ]
  },
  {
   "cell_type": "code",
   "execution_count": 5,
   "metadata": {},
   "outputs": [
    {
     "data": {
      "text/html": [
       "<div>\n",
       "<style scoped>\n",
       "    .dataframe tbody tr th:only-of-type {\n",
       "        vertical-align: middle;\n",
       "    }\n",
       "\n",
       "    .dataframe tbody tr th {\n",
       "        vertical-align: top;\n",
       "    }\n",
       "\n",
       "    .dataframe thead th {\n",
       "        text-align: right;\n",
       "    }\n",
       "</style>\n",
       "<table border=\"1\" class=\"dataframe\">\n",
       "  <thead>\n",
       "    <tr style=\"text-align: right;\">\n",
       "      <th></th>\n",
       "      <th>Date Invoiced</th>\n",
       "      <th>Date Paid</th>\n",
       "      <th>No. Days taken to Pay</th>\n",
       "      <th>Client Name</th>\n",
       "      <th>Invoice Reference</th>\n",
       "      <th>Invoice Amount</th>\n",
       "      <th>Paid Amount</th>\n",
       "    </tr>\n",
       "  </thead>\n",
       "  <tbody>\n",
       "    <tr>\n",
       "      <th>0</th>\n",
       "      <td>2022-05-31</td>\n",
       "      <td>2024-04-05</td>\n",
       "      <td>675</td>\n",
       "      <td>1</td>\n",
       "      <td>2022-5916</td>\n",
       "      <td>105609.74</td>\n",
       "      <td>105609.74</td>\n",
       "    </tr>\n",
       "    <tr>\n",
       "      <th>1</th>\n",
       "      <td>2023-08-16</td>\n",
       "      <td>2024-04-05</td>\n",
       "      <td>233</td>\n",
       "      <td>1</td>\n",
       "      <td>2023-6512</td>\n",
       "      <td>263821.73</td>\n",
       "      <td>263821.73</td>\n",
       "    </tr>\n",
       "    <tr>\n",
       "      <th>2</th>\n",
       "      <td>2023-08-16</td>\n",
       "      <td>2024-04-05</td>\n",
       "      <td>233</td>\n",
       "      <td>1</td>\n",
       "      <td>2023-6512</td>\n",
       "      <td>90150.94</td>\n",
       "      <td>90150.94</td>\n",
       "    </tr>\n",
       "    <tr>\n",
       "      <th>3</th>\n",
       "      <td>2023-08-16</td>\n",
       "      <td>2024-04-05</td>\n",
       "      <td>233</td>\n",
       "      <td>1</td>\n",
       "      <td>2023-6512</td>\n",
       "      <td>8442.53</td>\n",
       "      <td>8442.53</td>\n",
       "    </tr>\n",
       "    <tr>\n",
       "      <th>4</th>\n",
       "      <td>2019-01-31</td>\n",
       "      <td>2019-09-17</td>\n",
       "      <td>229</td>\n",
       "      <td>1</td>\n",
       "      <td>2019-4610</td>\n",
       "      <td>102461.41</td>\n",
       "      <td>102461.40</td>\n",
       "    </tr>\n",
       "  </tbody>\n",
       "</table>\n",
       "</div>"
      ],
      "text/plain": [
       "  Date Invoiced   Date Paid  No. Days taken to Pay  Client Name  \\\n",
       "0    2022-05-31  2024-04-05                    675            1   \n",
       "1    2023-08-16  2024-04-05                    233            1   \n",
       "2    2023-08-16  2024-04-05                    233            1   \n",
       "3    2023-08-16  2024-04-05                    233            1   \n",
       "4    2019-01-31  2019-09-17                    229            1   \n",
       "\n",
       "  Invoice Reference  Invoice Amount  Paid Amount  \n",
       "0         2022-5916       105609.74    105609.74  \n",
       "1         2023-6512       263821.73    263821.73  \n",
       "2         2023-6512        90150.94     90150.94  \n",
       "3         2023-6512         8442.53      8442.53  \n",
       "4         2019-4610       102461.41    102461.40  "
      ]
     },
     "execution_count": 5,
     "metadata": {},
     "output_type": "execute_result"
    }
   ],
   "source": [
    "df.head()"
   ]
  },
  {
   "cell_type": "code",
   "execution_count": 6,
   "metadata": {},
   "outputs": [
    {
     "data": {
      "text/plain": [
       "Date Invoiced  Date Paid   No. Days taken to Pay  Client Name  Invoice Reference  Invoice Amount  Paid Amount\n",
       "2016-03-03     2016-03-03  0                      132          2016/2946          92443.50        8700.84        4\n",
       "2019-04-30     2019-09-04  127                    43           2019-4732          63755.24        63755.24       4\n",
       "2015-07-27     2015-09-01  36                     227          2015/2515          5803.96         40.15          3\n",
       "2018-11-29     2018-12-27  28                     191          2018/4516          333958.71       333958.71      3\n",
       "2015-06-09     2015-09-27  110                    227          2015/2432          167377.52       76.50          3\n",
       "                                                                                                                ..\n",
       "2016-10-30     2019-04-28  910                    195          2016/3331          209176.73       209176.73      1\n",
       "                                                                                  152757.32       152757.32      1\n",
       "                                                                                  135544.60       135544.60      1\n",
       "                                                                                  67145.21        67145.21       1\n",
       "2024-05-15     2024-05-21  6                      243          2024-6867          27151.58        27151.58       1\n",
       "Name: count, Length: 5555, dtype: int64"
      ]
     },
     "execution_count": 6,
     "metadata": {},
     "output_type": "execute_result"
    }
   ],
   "source": [
    "# Replace the / to -\n",
    "df.value_counts()"
   ]
  },
  {
   "cell_type": "code",
   "execution_count": 7,
   "metadata": {},
   "outputs": [
    {
     "data": {
      "text/html": [
       "<div>\n",
       "<style scoped>\n",
       "    .dataframe tbody tr th:only-of-type {\n",
       "        vertical-align: middle;\n",
       "    }\n",
       "\n",
       "    .dataframe tbody tr th {\n",
       "        vertical-align: top;\n",
       "    }\n",
       "\n",
       "    .dataframe thead th {\n",
       "        text-align: right;\n",
       "    }\n",
       "</style>\n",
       "<table border=\"1\" class=\"dataframe\">\n",
       "  <thead>\n",
       "    <tr style=\"text-align: right;\">\n",
       "      <th></th>\n",
       "      <th>Date Invoiced</th>\n",
       "      <th>Date Paid</th>\n",
       "      <th>No. Days taken to Pay</th>\n",
       "      <th>Client Name</th>\n",
       "      <th>Invoice Reference</th>\n",
       "      <th>Invoice Amount</th>\n",
       "      <th>Paid Amount</th>\n",
       "    </tr>\n",
       "  </thead>\n",
       "  <tbody>\n",
       "    <tr>\n",
       "      <th>240</th>\n",
       "      <td>2015-06-30</td>\n",
       "      <td>2015-09-20</td>\n",
       "      <td>82</td>\n",
       "      <td>10</td>\n",
       "      <td>2015/2469</td>\n",
       "      <td>113148.77</td>\n",
       "      <td>113148.77</td>\n",
       "    </tr>\n",
       "    <tr>\n",
       "      <th>263</th>\n",
       "      <td>2015-09-09</td>\n",
       "      <td>2015-11-11</td>\n",
       "      <td>63</td>\n",
       "      <td>11</td>\n",
       "      <td>2015/2609</td>\n",
       "      <td>7121.77</td>\n",
       "      <td>7121.77</td>\n",
       "    </tr>\n",
       "    <tr>\n",
       "      <th>376</th>\n",
       "      <td>2019-08-29</td>\n",
       "      <td>2019-10-23</td>\n",
       "      <td>55</td>\n",
       "      <td>14</td>\n",
       "      <td>2019-4863</td>\n",
       "      <td>437752.27</td>\n",
       "      <td>437752.27</td>\n",
       "    </tr>\n",
       "    <tr>\n",
       "      <th>378</th>\n",
       "      <td>2019-08-29</td>\n",
       "      <td>2019-10-23</td>\n",
       "      <td>55</td>\n",
       "      <td>14</td>\n",
       "      <td>2019-4863</td>\n",
       "      <td>227984.28</td>\n",
       "      <td>227984.28</td>\n",
       "    </tr>\n",
       "    <tr>\n",
       "      <th>380</th>\n",
       "      <td>2019-08-29</td>\n",
       "      <td>2019-10-23</td>\n",
       "      <td>55</td>\n",
       "      <td>14</td>\n",
       "      <td>2019-4863</td>\n",
       "      <td>251790.87</td>\n",
       "      <td>251790.87</td>\n",
       "    </tr>\n",
       "    <tr>\n",
       "      <th>...</th>\n",
       "      <td>...</td>\n",
       "      <td>...</td>\n",
       "      <td>...</td>\n",
       "      <td>...</td>\n",
       "      <td>...</td>\n",
       "      <td>...</td>\n",
       "      <td>...</td>\n",
       "    </tr>\n",
       "    <tr>\n",
       "      <th>4977</th>\n",
       "      <td>2015-03-18</td>\n",
       "      <td>2015-03-24</td>\n",
       "      <td>6</td>\n",
       "      <td>243</td>\n",
       "      <td>LS15/0003</td>\n",
       "      <td>26352.13</td>\n",
       "      <td>26352.13</td>\n",
       "    </tr>\n",
       "    <tr>\n",
       "      <th>5241</th>\n",
       "      <td>2016-03-30</td>\n",
       "      <td>2016-06-27</td>\n",
       "      <td>89</td>\n",
       "      <td>251</td>\n",
       "      <td>2016/2976</td>\n",
       "      <td>21834.81</td>\n",
       "      <td>21834.81</td>\n",
       "    </tr>\n",
       "    <tr>\n",
       "      <th>5251</th>\n",
       "      <td>2017-01-31</td>\n",
       "      <td>2017-04-03</td>\n",
       "      <td>62</td>\n",
       "      <td>251</td>\n",
       "      <td>2017/3504</td>\n",
       "      <td>21834.81</td>\n",
       "      <td>21834.81</td>\n",
       "    </tr>\n",
       "    <tr>\n",
       "      <th>5284</th>\n",
       "      <td>2023-02-27</td>\n",
       "      <td>2023-03-07</td>\n",
       "      <td>8</td>\n",
       "      <td>254</td>\n",
       "      <td>2023-6284</td>\n",
       "      <td>269344.93</td>\n",
       "      <td>269344.93</td>\n",
       "    </tr>\n",
       "    <tr>\n",
       "      <th>5416</th>\n",
       "      <td>2022-05-19</td>\n",
       "      <td>2022-06-08</td>\n",
       "      <td>20</td>\n",
       "      <td>260</td>\n",
       "      <td>2022-5899</td>\n",
       "      <td>458630.10</td>\n",
       "      <td>458630.10</td>\n",
       "    </tr>\n",
       "  </tbody>\n",
       "</table>\n",
       "<p>143 rows × 7 columns</p>\n",
       "</div>"
      ],
      "text/plain": [
       "     Date Invoiced   Date Paid  No. Days taken to Pay  Client Name  \\\n",
       "240     2015-06-30  2015-09-20                     82           10   \n",
       "263     2015-09-09  2015-11-11                     63           11   \n",
       "376     2019-08-29  2019-10-23                     55           14   \n",
       "378     2019-08-29  2019-10-23                     55           14   \n",
       "380     2019-08-29  2019-10-23                     55           14   \n",
       "...            ...         ...                    ...          ...   \n",
       "4977    2015-03-18  2015-03-24                      6          243   \n",
       "5241    2016-03-30  2016-06-27                     89          251   \n",
       "5251    2017-01-31  2017-04-03                     62          251   \n",
       "5284    2023-02-27  2023-03-07                      8          254   \n",
       "5416    2022-05-19  2022-06-08                     20          260   \n",
       "\n",
       "     Invoice Reference  Invoice Amount  Paid Amount  \n",
       "240          2015/2469       113148.77    113148.77  \n",
       "263          2015/2609         7121.77      7121.77  \n",
       "376          2019-4863       437752.27    437752.27  \n",
       "378          2019-4863       227984.28    227984.28  \n",
       "380          2019-4863       251790.87    251790.87  \n",
       "...                ...             ...          ...  \n",
       "4977         LS15/0003        26352.13     26352.13  \n",
       "5241         2016/2976        21834.81     21834.81  \n",
       "5251         2017/3504        21834.81     21834.81  \n",
       "5284         2023-6284       269344.93    269344.93  \n",
       "5416         2022-5899       458630.10    458630.10  \n",
       "\n",
       "[143 rows x 7 columns]"
      ]
     },
     "execution_count": 7,
     "metadata": {},
     "output_type": "execute_result"
    }
   ],
   "source": [
    "duplicates = df[df.duplicated(keep=False)].drop_duplicates()\n",
    "duplicates"
   ]
  },
  {
   "cell_type": "code",
   "execution_count": 8,
   "metadata": {},
   "outputs": [],
   "source": [
    "df = df.drop_duplicates()"
   ]
  },
  {
   "cell_type": "code",
   "execution_count": 9,
   "metadata": {},
   "outputs": [
    {
     "data": {
      "text/plain": [
       "Date Invoiced  Date Paid   No. Days taken to Pay  Client Name  Invoice Reference  Invoice Amount  Paid Amount\n",
       "2010-04-30     2019-03-31  3257                   35           2010/554           53598.84        1728.99        1\n",
       "2018-12-31     2019-04-17  107                    169          2018/4572          105343.26       175.51         1\n",
       "2019-01-16     2019-02-26  41                     15           2019-4587          29925.97        29925.97       1\n",
       "2019-01-15     2019-01-23  8                      196          2019-4586          15015.46        15015.46       1\n",
       "2019-01-13     2019-01-15  2                      181          2019-4585          79228.94        79228.94       1\n",
       "                                                                                                                ..\n",
       "2016-10-30     2017-01-05  67                     251          2016/3336          21834.81        21834.81       1\n",
       "               2016-12-16  47                     61           2016/3324          10343.69        10181.95       1\n",
       "                                                                                                  161.74         1\n",
       "               2016-11-24  25                     119          2016/3337          11559.75        11559.75       1\n",
       "2024-05-15     2024-05-21  6                      243          2024-6867          27151.58        27151.58       1\n",
       "Name: count, Length: 5555, dtype: int64"
      ]
     },
     "execution_count": 9,
     "metadata": {},
     "output_type": "execute_result"
    }
   ],
   "source": [
    "df.value_counts()"
   ]
  },
  {
   "cell_type": "code",
   "execution_count": 10,
   "metadata": {},
   "outputs": [],
   "source": [
    "df.loc[:, 'Invoice Reference'] = df['Invoice Reference'].str.replace('/', '-', regex=False)\n"
   ]
  },
  {
   "cell_type": "code",
   "execution_count": 11,
   "metadata": {},
   "outputs": [
    {
     "data": {
      "text/plain": [
       "Date Invoiced  Date Paid   No. Days taken to Pay  Client Name  Invoice Reference  Invoice Amount  Paid Amount\n",
       "2010-04-30     2019-03-31  3257                   35           2010-554           53598.84        1728.99        1\n",
       "2018-12-31     2019-04-17  107                    169          2018-4572          105343.26       175.51         1\n",
       "2019-01-16     2019-02-26  41                     15           2019-4587          29925.97        29925.97       1\n",
       "2019-01-15     2019-01-23  8                      196          2019-4586          15015.46        15015.46       1\n",
       "2019-01-13     2019-01-15  2                      181          2019-4585          79228.94        79228.94       1\n",
       "                                                                                                                ..\n",
       "2016-10-30     2017-01-05  67                     251          2016-3336          21834.81        21834.81       1\n",
       "               2016-12-16  47                     61           2016-3324          10343.69        10181.95       1\n",
       "                                                                                                  161.74         1\n",
       "               2016-11-24  25                     119          2016-3337          11559.75        11559.75       1\n",
       "2024-05-15     2024-05-21  6                      243          2024-6867          27151.58        27151.58       1\n",
       "Name: count, Length: 5555, dtype: int64"
      ]
     },
     "execution_count": 11,
     "metadata": {},
     "output_type": "execute_result"
    }
   ],
   "source": [
    "df.value_counts()"
   ]
  },
  {
   "cell_type": "code",
   "execution_count": 12,
   "metadata": {},
   "outputs": [
    {
     "data": {
      "text/html": [
       "<div>\n",
       "<style scoped>\n",
       "    .dataframe tbody tr th:only-of-type {\n",
       "        vertical-align: middle;\n",
       "    }\n",
       "\n",
       "    .dataframe tbody tr th {\n",
       "        vertical-align: top;\n",
       "    }\n",
       "\n",
       "    .dataframe thead th {\n",
       "        text-align: right;\n",
       "    }\n",
       "</style>\n",
       "<table border=\"1\" class=\"dataframe\">\n",
       "  <thead>\n",
       "    <tr style=\"text-align: right;\">\n",
       "      <th></th>\n",
       "      <th>No. Days taken to Pay</th>\n",
       "      <th>Client Name</th>\n",
       "      <th>Invoice Amount</th>\n",
       "      <th>Paid Amount</th>\n",
       "    </tr>\n",
       "  </thead>\n",
       "  <tbody>\n",
       "    <tr>\n",
       "      <th>count</th>\n",
       "      <td>5555.000000</td>\n",
       "      <td>5555.000000</td>\n",
       "      <td>5.555000e+03</td>\n",
       "      <td>5.555000e+03</td>\n",
       "    </tr>\n",
       "    <tr>\n",
       "      <th>mean</th>\n",
       "      <td>146.153555</td>\n",
       "      <td>137.697570</td>\n",
       "      <td>1.209148e+05</td>\n",
       "      <td>9.573390e+04</td>\n",
       "    </tr>\n",
       "    <tr>\n",
       "      <th>std</th>\n",
       "      <td>241.556510</td>\n",
       "      <td>84.131069</td>\n",
       "      <td>1.891890e+05</td>\n",
       "      <td>1.489545e+05</td>\n",
       "    </tr>\n",
       "    <tr>\n",
       "      <th>min</th>\n",
       "      <td>0.000000</td>\n",
       "      <td>1.000000</td>\n",
       "      <td>5.189780e+03</td>\n",
       "      <td>1.000000e-02</td>\n",
       "    </tr>\n",
       "    <tr>\n",
       "      <th>25%</th>\n",
       "      <td>33.000000</td>\n",
       "      <td>57.000000</td>\n",
       "      <td>2.183481e+04</td>\n",
       "      <td>1.631417e+04</td>\n",
       "    </tr>\n",
       "    <tr>\n",
       "      <th>50%</th>\n",
       "      <td>69.000000</td>\n",
       "      <td>143.000000</td>\n",
       "      <td>5.685841e+04</td>\n",
       "      <td>4.400334e+04</td>\n",
       "    </tr>\n",
       "    <tr>\n",
       "      <th>75%</th>\n",
       "      <td>150.000000</td>\n",
       "      <td>210.000000</td>\n",
       "      <td>1.345176e+05</td>\n",
       "      <td>1.075698e+05</td>\n",
       "    </tr>\n",
       "    <tr>\n",
       "      <th>max</th>\n",
       "      <td>3257.000000</td>\n",
       "      <td>281.000000</td>\n",
       "      <td>2.498671e+06</td>\n",
       "      <td>2.250469e+06</td>\n",
       "    </tr>\n",
       "  </tbody>\n",
       "</table>\n",
       "</div>"
      ],
      "text/plain": [
       "       No. Days taken to Pay  Client Name  Invoice Amount   Paid Amount\n",
       "count            5555.000000  5555.000000    5.555000e+03  5.555000e+03\n",
       "mean              146.153555   137.697570    1.209148e+05  9.573390e+04\n",
       "std               241.556510    84.131069    1.891890e+05  1.489545e+05\n",
       "min                 0.000000     1.000000    5.189780e+03  1.000000e-02\n",
       "25%                33.000000    57.000000    2.183481e+04  1.631417e+04\n",
       "50%                69.000000   143.000000    5.685841e+04  4.400334e+04\n",
       "75%               150.000000   210.000000    1.345176e+05  1.075698e+05\n",
       "max              3257.000000   281.000000    2.498671e+06  2.250469e+06"
      ]
     },
     "execution_count": 12,
     "metadata": {},
     "output_type": "execute_result"
    }
   ],
   "source": [
    "df.describe()"
   ]
  },
  {
   "cell_type": "code",
   "execution_count": 13,
   "metadata": {},
   "outputs": [
    {
     "data": {
      "text/plain": [
       "False"
      ]
     },
     "execution_count": 13,
     "metadata": {},
     "output_type": "execute_result"
    }
   ],
   "source": [
    "df['Invoice Reference'].is_unique"
   ]
  },
  {
   "cell_type": "code",
   "execution_count": 14,
   "metadata": {},
   "outputs": [
    {
     "name": "stdout",
     "output_type": "stream",
     "text": [
      "Invoice Reference\n",
      "2022-5975    12\n",
      "2017-3909    12\n",
      "2022-5904    11\n",
      "2018-4105    10\n",
      "2017-3986    10\n",
      "             ..\n",
      "2017-4011     1\n",
      "2017-4012     1\n",
      "2017-3674     1\n",
      "2017-3548     1\n",
      "2016-3045     1\n",
      "Name: count, Length: 3285, dtype: int64\n"
     ]
    }
   ],
   "source": [
    "print(df['Invoice Reference'].value_counts())\n"
   ]
  },
  {
   "cell_type": "code",
   "execution_count": 15,
   "metadata": {},
   "outputs": [
    {
     "data": {
      "text/plain": [
       "Date Invoiced             object\n",
       "Date Paid                 object\n",
       "No. Days taken to Pay      int64\n",
       "Client Name                int64\n",
       "Invoice Reference         object\n",
       "Invoice Amount           float64\n",
       "Paid Amount              float64\n",
       "dtype: object"
      ]
     },
     "execution_count": 15,
     "metadata": {},
     "output_type": "execute_result"
    }
   ],
   "source": [
    "df.dtypes"
   ]
  },
  {
   "cell_type": "code",
   "execution_count": 16,
   "metadata": {},
   "outputs": [],
   "source": [
    "df['Date Invoiced'] = pd.to_datetime(df['Date Invoiced'], errors='coerce')\n",
    "df['Date Paid'] = pd.to_datetime(df['Date Paid'], errors='coerce')"
   ]
  },
  {
   "cell_type": "code",
   "execution_count": 17,
   "metadata": {},
   "outputs": [
    {
     "data": {
      "text/plain": [
       "Date Invoiced            datetime64[ns]\n",
       "Date Paid                datetime64[ns]\n",
       "No. Days taken to Pay             int64\n",
       "Client Name                       int64\n",
       "Invoice Reference                object\n",
       "Invoice Amount                  float64\n",
       "Paid Amount                     float64\n",
       "dtype: object"
      ]
     },
     "execution_count": 17,
     "metadata": {},
     "output_type": "execute_result"
    }
   ],
   "source": [
    "df.dtypes"
   ]
  },
  {
   "cell_type": "code",
   "execution_count": 18,
   "metadata": {},
   "outputs": [
    {
     "name": "stdout",
     "output_type": "stream",
     "text": [
      "Date Invoiced            0\n",
      "Date Paid                0\n",
      "No. Days taken to Pay    0\n",
      "Client Name              0\n",
      "Invoice Reference        0\n",
      "Invoice Amount           0\n",
      "Paid Amount              0\n",
      "dtype: int64\n"
     ]
    }
   ],
   "source": [
    "print(df.isnull().sum())  # Shows missing value count per column"
   ]
  },
  {
   "cell_type": "code",
   "execution_count": 19,
   "metadata": {},
   "outputs": [
    {
     "name": "stdout",
     "output_type": "stream",
     "text": [
      "0\n"
     ]
    }
   ],
   "source": [
    "print(df.duplicated().sum())  # Number of duplicate rows"
   ]
  },
  {
   "cell_type": "code",
   "execution_count": 20,
   "metadata": {},
   "outputs": [
    {
     "name": "stdout",
     "output_type": "stream",
     "text": [
      "                       Date Invoiced                      Date Paid  \\\n",
      "count                           5555                           5555   \n",
      "mean   2018-07-14 04:16:22.466246656  2018-12-07 07:57:29.648964864   \n",
      "min              2010-04-30 00:00:00            2015-01-04 00:00:00   \n",
      "25%              2016-04-28 00:00:00            2016-09-01 00:00:00   \n",
      "50%              2017-10-31 00:00:00            2018-04-08 00:00:00   \n",
      "75%              2019-10-23 00:00:00            2020-03-18 12:00:00   \n",
      "max              2024-05-15 00:00:00            2024-05-29 00:00:00   \n",
      "std                              NaN                            NaN   \n",
      "\n",
      "       No. Days taken to Pay  Client Name  Invoice Amount   Paid Amount  \n",
      "count            5555.000000  5555.000000    5.555000e+03  5.555000e+03  \n",
      "mean              146.153555   137.697570    1.209148e+05  9.573390e+04  \n",
      "min                 0.000000     1.000000    5.189780e+03  1.000000e-02  \n",
      "25%                33.000000    57.000000    2.183481e+04  1.631417e+04  \n",
      "50%                69.000000   143.000000    5.685841e+04  4.400334e+04  \n",
      "75%               150.000000   210.000000    1.345176e+05  1.075698e+05  \n",
      "max              3257.000000   281.000000    2.498671e+06  2.250469e+06  \n",
      "std               241.556510    84.131069    1.891890e+05  1.489545e+05  \n"
     ]
    }
   ],
   "source": [
    "print(df.describe())  # Summary statistics for numeric columns[2][4]"
   ]
  },
  {
   "cell_type": "code",
   "execution_count": 21,
   "metadata": {},
   "outputs": [
    {
     "name": "stdout",
     "output_type": "stream",
     "text": [
      "Client Name\n",
      "15     272\n",
      "120    183\n",
      "195    177\n",
      "227    119\n",
      "1      115\n",
      "      ... \n",
      "121      1\n",
      "164      1\n",
      "247      1\n",
      "56       1\n",
      "157      1\n",
      "Name: count, Length: 280, dtype: int64\n"
     ]
    }
   ],
   "source": [
    "print(df['Client Name'].value_counts())\n"
   ]
  },
  {
   "cell_type": "code",
   "execution_count": 27,
   "metadata": {},
   "outputs": [
    {
     "name": "stdout",
     "output_type": "stream",
     "text": [
      "     Date Invoiced  Date Paid  No. Days taken to Pay  Client Name  \\\n",
      "115     2014-11-30 2015-04-23                    144            2   \n",
      "233     2015-04-30 2015-09-20                    143           10   \n",
      "234     2014-12-31 2015-06-01                    152           10   \n",
      "236     2014-12-31 2016-05-11                    497           10   \n",
      "237     2014-12-31 2016-05-16                    502           10   \n",
      "...            ...        ...                    ...          ...   \n",
      "5510    2015-04-30 2015-07-09                     70          264   \n",
      "5514    2015-04-30 2015-07-09                     70          264   \n",
      "5572    2016-03-31 2016-05-25                     55          267   \n",
      "5579    2019-08-29 2019-08-29                      0          269   \n",
      "5666    2014-10-30 2015-08-04                    278          281   \n",
      "\n",
      "     Invoice Reference  Invoice Amount  Paid Amount  \n",
      "115            E14-643        15557.24     15557.24  \n",
      "233            E15-683       177628.16    177628.16  \n",
      "234            E14-647        88423.03     88423.03  \n",
      "236            E14-650       118573.03     52699.13  \n",
      "237            E14-650       118573.03     65873.91  \n",
      "...                ...             ...          ...  \n",
      "5510           E15-689        13939.27     13939.27  \n",
      "5514           E15-689         7818.61      7818.61  \n",
      "5572       2016-2999v1         7546.75      7546.75  \n",
      "5579           RV 4426       632574.92    632574.92  \n",
      "5666           E14-632        79851.28     41135.51  \n",
      "\n",
      "[188 rows x 7 columns]\n"
     ]
    }
   ],
   "source": [
    "# Regex: four digits, dash, one or more digits\n",
    "pattern = r'^\\d{4}-\\d+$'\n",
    "\n",
    "# Inspect rows that DO NOT match the regex\n",
    "non_matching_rows = df[~df['Invoice Reference'].str.match(pattern, na=False)]\n",
    "\n",
    "print(non_matching_rows)"
   ]
  },
  {
   "cell_type": "code",
   "execution_count": 28,
   "metadata": {},
   "outputs": [],
   "source": [
    "df = df[df['Invoice Reference'].str.match(pattern, na=False)]"
   ]
  },
  {
   "cell_type": "code",
   "execution_count": 29,
   "metadata": {},
   "outputs": [
    {
     "name": "stdout",
     "output_type": "stream",
     "text": [
      "Empty DataFrame\n",
      "Columns: [Date Invoiced, Date Paid, No. Days taken to Pay, Client Name, Invoice Reference, Invoice Amount, Paid Amount]\n",
      "Index: []\n"
     ]
    }
   ],
   "source": [
    "# Inspect rows that DO NOT match the regex\n",
    "non_matching_rows = df[~df['Invoice Reference'].str.match(pattern, na=False)]\n",
    "\n",
    "print(non_matching_rows)"
   ]
  },
  {
   "cell_type": "code",
   "execution_count": 30,
   "metadata": {},
   "outputs": [],
   "source": [
    "df.to_csv('cleaned_invoices.csv', index=False)"
   ]
  }
 ],
 "metadata": {
  "kernelspec": {
   "display_name": "base",
   "language": "python",
   "name": "python3"
  },
  "language_info": {
   "codemirror_mode": {
    "name": "ipython",
    "version": 3
   },
   "file_extension": ".py",
   "mimetype": "text/x-python",
   "name": "python",
   "nbconvert_exporter": "python",
   "pygments_lexer": "ipython3",
   "version": "3.12.4"
  }
 },
 "nbformat": 4,
 "nbformat_minor": 2
}
